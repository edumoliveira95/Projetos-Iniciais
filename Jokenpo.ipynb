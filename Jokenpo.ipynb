{
 "cells": [
  {
   "cell_type": "code",
   "execution_count": 55,
   "id": "2c78dd0f",
   "metadata": {},
   "outputs": [
    {
     "name": "stdout",
     "output_type": "stream",
     "text": [
      "Qual a sua escolha? 'r' para pedra, 'p' para papel, 't' para tesoura\n",
      "r\n",
      "Empate \n",
      "Continuar? sim (s) ou não (n)s\n",
      "Qual a sua escolha? 'r' para pedra, 'p' para papel, 't' para tesoura\n",
      "r\n",
      "Você ganhou!\n"
     ]
    }
   ],
   "source": [
    "import random\n",
    "\n",
    "def play():\n",
    "    user = input(\"Qual a sua escolha? 'r' para pedra, 'p' para papel, 't' para tesoura\\n\")\n",
    "    computer = random.choice(['r','p','t'])\n",
    "    while user == computer:\n",
    "        continuar = input(\"Empate! \\nContinuar? sim (s) ou não (n)\").lower()\n",
    "        acabou = \"Finalizado\"\n",
    "        if continuar == 's':\n",
    "            return play()\n",
    "        else:\n",
    "            return acabou\n",
    "        \n",
    "    \n",
    "    #r > t, t > p, p > r\n",
    "    if is_win(user, computer):\n",
    "        return 'Você ganhou!'\n",
    "    \n",
    "    return 'Você perdeu!'\n",
    "\n",
    "def is_win(player, opponent):\n",
    "    if(player == 'r' and opponent == 't') or (player == 't' and opponent == 'p') \\\n",
    "        or (player == 'p' and opponent == 'r'):\n",
    "        return True\n",
    "    \n",
    "print(play())"
   ]
  }
 ],
 "metadata": {
  "kernelspec": {
   "display_name": "Python 3",
   "language": "python",
   "name": "python3"
  }
 },
 "nbformat": 4,
 "nbformat_minor": 5
}
