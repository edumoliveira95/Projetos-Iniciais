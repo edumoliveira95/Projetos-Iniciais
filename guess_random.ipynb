{
 "cells": [
  {
   "cell_type": "code",
   "execution_count": 18,
   "id": "f9562b88",
   "metadata": {},
   "outputs": [
    {
     "name": "stdout",
     "output_type": "stream",
     "text": [
      "Advinhe um número entre 1 e 100: 79\n",
      "Desculpe, tente novamente. Muito baixo !\n",
      "Advinhe um número entre 1 e 100: 93\n",
      "Desculpe, tente novamente. Muito baixo !\n",
      "Advinhe um número entre 1 e 100: 100\n",
      "Desculpe, tente novamente. Muito alto!\n",
      "Advinhe um número entre 1 e 100: 96\n",
      "Desculpe, tente novamente. Muito alto!\n",
      "Advinhe um número entre 1 e 100: 94\n",
      "Desculpe, tente novamente. Muito baixo !\n",
      "Advinhe um número entre 1 e 100: 95\n",
      "Yay, parabéns. Você advinhou o numéro 95 corretamente\n"
     ]
    }
   ],
   "source": [
    "import random\n",
    "\n",
    "def guess(x):\n",
    "    random_number = random.randint(1, x)\n",
    "    guess = 0\n",
    "    while guess != random_number:\n",
    "        guess = int(input(f'Advinhe um número entre 1 e {x}: '))\n",
    "        if guess < random_number:\n",
    "            print('Desculpe, tente novamente. Muito baixo !')\n",
    "        elif guess > random_number:\n",
    "            print('Desculpe, tente novamente. Muito alto!')\n",
    "    print(f'Yay, parabéns. Você advinhou o numéro {random_number} corretamente')\n",
    "    \n",
    "guess(10)"
   ]
  },
  {
   "cell_type": "code",
   "execution_count": 19,
   "id": "d9acdbe5",
   "metadata": {},
   "outputs": [
    {
     "name": "stdout",
     "output_type": "stream",
     "text": [
      "O número 765 é muito alto (H), muito baixo (L), ou correto (C)?? h\n",
      "O número 538 é muito alto (H), muito baixo (L), ou correto (C)?? l\n",
      "O número 621 é muito alto (H), muito baixo (L), ou correto (C)?? h\n",
      "O número 618 é muito alto (H), muito baixo (L), ou correto (C)?? h\n",
      "O número 613 é muito alto (H), muito baixo (L), ou correto (C)?? h\n",
      "O número 612 é muito alto (H), muito baixo (L), ou correto (C)?? c\n",
      "Yay! O computador advinhou seu número, 612, corretamente!\n"
     ]
    }
   ],
   "source": [
    "import random\n",
    "\n",
    "def computer_guess(x):\n",
    "    low = 1\n",
    "    high = x\n",
    "    feedback = ''\n",
    "    while feedback != 'c':\n",
    "        if low != high:\n",
    "            guess = random.randint(low, high)\n",
    "        else:\n",
    "            guess = low  # could also be high b/c low = high\n",
    "        feedback = input(f'O número {guess} é muito alto (H), muito baixo (L), ou correto (C)?? ').lower()\n",
    "        if feedback == 'h':\n",
    "            high = guess - 1\n",
    "        elif feedback == 'l':\n",
    "            low = guess + 1\n",
    "\n",
    "    print(f'Yay! O computador advinhou seu número, {guess}, corretamente!')\n",
    "\n",
    "\n",
    "computer_guess(1000)"
   ]
  },
  {
   "cell_type": "code",
   "execution_count": null,
   "id": "5cc41c6d",
   "metadata": {},
   "outputs": [],
   "source": []
  }
 ],
 "metadata": {
  "kernelspec": {
   "display_name": "Python 3",
   "language": "python",
   "name": "python3"
  },
  "language_info": {
   "codemirror_mode": {
    "name": "ipython",
    "version": 3
   },
   "file_extension": ".py",
   "mimetype": "text/x-python",
   "name": "python",
   "nbconvert_exporter": "python",
   "pygments_lexer": "ipython3",
   "version": "3.8.8"
  }
 },
 "nbformat": 4,
 "nbformat_minor": 5
}
